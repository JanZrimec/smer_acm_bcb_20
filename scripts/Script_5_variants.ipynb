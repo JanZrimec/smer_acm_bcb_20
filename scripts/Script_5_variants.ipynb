{
 "cells": [
  {
   "cell_type": "code",
   "execution_count": null,
   "metadata": {
    "collapsed": true
   },
   "outputs": [],
   "source": [
    "## run calculation at diff parames\n",
    "# make multicore to accelerate\n",
    "# make fucntion to run in pool"
   ]
  },
  {
   "cell_type": "code",
   "execution_count": 1,
   "metadata": {
    "collapsed": true
   },
   "outputs": [],
   "source": [
    "import numpy as np\n",
    "import pandas as pd\n",
    "from multiprocessing import Pool, cpu_count\n",
    "import random\n",
    "from pyfaidx import Fasta"
   ]
  },
  {
   "cell_type": "code",
   "execution_count": 2,
   "metadata": {},
   "outputs": [
    {
     "name": "stdout",
     "output_type": "stream",
     "text": [
      "/Users/zrimec/box/Projects-active/Clank4/results/2018_5_14/Data/k3_idx.csv\n"
     ]
    }
   ],
   "source": [
    "## make dictionary\n",
    "\n",
    "fn = []\n",
    "# read parameters\n",
    "direc = \"../data/\" \n",
    "fn.append(direc+\"k3_idx.csv\")\n",
    "fn.append(direc+\"k5_idx.csv\")\n",
    "fn.append(direc+\"k7_idx.csv\") \n",
    "fn.append(direc+\"k9_idx.csv\") \n",
    "print(fn[0])\n"
   ]
  },
  {
   "cell_type": "code",
   "execution_count": 3,
   "metadata": {
    "collapsed": true
   },
   "outputs": [],
   "source": [
    "# make list of dictionaries of lists\n",
    "di = list()\n",
    "\n",
    "for i in range(0,4):\n",
    "    data = pd.read_csv(fn[i],sep=',',header=None)\n",
    "    data.set_index([0], drop=True, inplace=True)\n",
    "    \n",
    "    #di.append(data.to_dict('index'))\n",
    "    # use via di[1]['AAAAA'][7] - this is problematic\n",
    "    \n",
    "    ditmp=[]\n",
    "    for ii in range(0,data.shape[1]):\n",
    "        ditmp.append(data.loc[:,ii+1].to_dict())\n",
    "    di.append(ditmp)\n",
    "    \n",
    "# use via di[NN][clust]\n",
    "\n",
    "dic = di"
   ]
  },
  {
   "cell_type": "code",
   "execution_count": 4,
   "metadata": {
    "collapsed": true
   },
   "outputs": [],
   "source": [
    "# nn3c16\n",
    "\n",
    "dis =[]\n",
    "for i in range(0,1):\n",
    "    dis.append(dic[i][2:])\n",
    "dis1 = dis\n",
    "    "
   ]
  },
  {
   "cell_type": "code",
   "execution_count": 5,
   "metadata": {
    "collapsed": true
   },
   "outputs": [],
   "source": [
    "# nn5c32\n",
    "\n",
    "dis =[]\n",
    "for i in range(0,1):\n",
    "    dis.append(dic[i+1][3:])\n",
    "dis2 = dis\n",
    "    "
   ]
  },
  {
   "cell_type": "code",
   "execution_count": 6,
   "metadata": {
    "collapsed": true
   },
   "outputs": [],
   "source": [
    "# nn7 c64\n",
    "\n",
    "dis =[]\n",
    "for i in range(0,1):\n",
    "    dis.append(dic[i+2][4:])\n",
    "dis3=dis\n",
    "    "
   ]
  },
  {
   "cell_type": "code",
   "execution_count": 7,
   "metadata": {
    "collapsed": true
   },
   "outputs": [],
   "source": [
    "# nn9 c128\n",
    "\n",
    "dis =[]\n",
    "for i in range(0,1):\n",
    "    dis.append(dic[i+3][5:])\n",
    "dis4=dis\n",
    "    "
   ]
  },
  {
   "cell_type": "code",
   "execution_count": null,
   "metadata": {
    "collapsed": true
   },
   "outputs": [],
   "source": []
  },
  {
   "cell_type": "code",
   "execution_count": 8,
   "metadata": {
    "collapsed": true
   },
   "outputs": [],
   "source": [
    "## sample 10 seqs\n",
    "\n",
    "random.seed(10)\n",
    "nums = [x for x in range(0,34)]\n",
    "random.shuffle(nums)\n",
    "\n",
    "seqs = Fasta(direc+'ori_nic_37.fasta')\n",
    "\n",
    "seqs_r10 = list()\n",
    "seqs_r10_40 = list()\n",
    "for i in range(0,10):\n",
    "    seqs_r10.append(seqs[i][:].seq)\n",
    "    seqs_r10_40.append(seqs[i][111-1:150].seq)"
   ]
  },
  {
   "cell_type": "code",
   "execution_count": 9,
   "metadata": {
    "collapsed": true
   },
   "outputs": [],
   "source": [
    "## define all related functions\n",
    "\n",
    "def colors(zap,di,NN): \n",
    "    cz = []\n",
    "    for i in range(len(zap)-2*NN):\n",
    "        x = zap[i:i+2*NN+1]\n",
    "#        print(\"*\",x,kx) \n",
    "#        color = di[x][kx]\n",
    "        color = di[x]\n",
    "        cz.append(color)\n",
    "    return cz\n",
    "\n",
    "def initials(di,colo): \n",
    "    intu=[]\n",
    "    for x in di:\n",
    "        if di[x] == colo:\n",
    "            intu.append(x)\n",
    "    return intu\n",
    "\n",
    "def reconstructions(zap,di,NN):\n",
    "    chars = \"ACGT\"\n",
    "    intu = initials(di,zap[0])\n",
    "    nexttu = []\n",
    "#    print(\"kx = \",kx)\n",
    "    for i in range(1,len(zap)):\n",
    "        #print(i)\n",
    "        newc = zap[i]\n",
    "        for tup in intu:\n",
    "            x = tup[-(2*NN+1):]\n",
    "            for c in chars:\n",
    "                y = x[1:]+c \n",
    "#                z = di[y]\n",
    "#                w = z[kx]\n",
    "                w = di[y]\n",
    "                if w == newc:\n",
    "                    newtup = tup+c\n",
    "                    nexttu.append(newtup) \n",
    "        intu = nexttu[:]\n",
    "#        print(i,len(intu[0]),len(intu))\n",
    "        nexttu = []\n",
    "    return intu\n",
    "\n",
    "def hamming(zap1,zap2): \n",
    "    d = 0\n",
    "    for i in range(len(zap1)):\n",
    "        if zap1[i] != zap2[i]:\n",
    "            d += 1\n",
    "    return d\n",
    "\n",
    "def ham(li): # ok = p-dist\n",
    "    n = len(li)\n",
    "    mat = []\n",
    "    for i in range(n):\n",
    "        v =[]\n",
    "        for j in range(n):\n",
    "            d = hamming(li[i],li[j])\n",
    "            v.append(d)\n",
    "        mat.append(v)\n",
    "    return mat\n",
    "# pdist = ham/n\n",
    "\n",
    "def euclid(c1,c2,m): \n",
    "    d = 0\n",
    "    for i in range(len(c1)):\n",
    "        for j in range(len(c2)):\n",
    "            d += m[int(c1[i])-1][int(c2[j])-1]\n",
    "    return d\n",
    "\n",
    "#m4 = 1-np.identity(cluster)\n",
    "\n",
    "def eucl(li,m): # ok\n",
    "    n = len(li)\n",
    "    mat = []\n",
    "    for i in range(n):\n",
    "        v =[]\n",
    "        for j in range(n):\n",
    "            d = euclid(li[i],li[j],m)\n",
    "            v.append(d) \n",
    "        mat.append(v)\n",
    "    return mat\n"
   ]
  },
  {
   "cell_type": "code",
   "execution_count": 10,
   "metadata": {
    "collapsed": true
   },
   "outputs": [],
   "source": [
    "## function run on single seq instance\n",
    "\n",
    "def experiment_variants(seq):\n",
    "    \n",
    "    n_variants = [] # save all variants, list NN of list clust of list seqs\n",
    "    pdist = [] # average pdist between reconstructed seqs - might be extra slow\n",
    "    \n",
    "    for i in range(0,len(di)): # NN level\n",
    "        print(i)\n",
    "        varclust = []\n",
    "        pdclust = []\n",
    "        for ii in range(0,len(di[i])): # cluster level\n",
    "            print('    '+str(ii))\n",
    "            laz = colors(seq,di[i][ii],i+nn)\n",
    "            re = reconstructions(laz,di[i][ii],i+nn)\n",
    "            varclust.append(len(re))\n",
    "            if len(re)>1:\n",
    "                mat = np.array(ham(re))\n",
    "                pdclust.append(np.mean(mat[np.triu_indices(len(mat),1)]))\n",
    "            else:\n",
    "                pdclust.append(0)      \n",
    "        n_variants.append(varclust)\n",
    "        pdist.append(pdclust)\n",
    "    \n",
    "    return [n_variants,pdist]\n"
   ]
  },
  {
   "cell_type": "code",
   "execution_count": 11,
   "metadata": {},
   "outputs": [
    {
     "name": "stdout",
     "output_type": "stream",
     "text": [
      "0\n",
      "0\n",
      "0\n",
      "    0\n",
      "    0\n",
      "    0\n",
      "    1\n",
      "    2\n",
      "0\n",
      "    0\n",
      "    1\n",
      "    2\n",
      "0\n",
      "    0\n",
      "    1\n",
      "    2\n",
      "0\n",
      "    1\n",
      "    2\n",
      "0\n",
      "    0\n",
      "    0\n",
      "    1\n",
      "    2\n",
      "0\n",
      "    0\n",
      "    1\n",
      "    2\n",
      "0\n",
      "    0\n",
      "    1\n",
      "    2\n",
      "0\n",
      "    0\n",
      "    1\n",
      "    2\n",
      "    1\n",
      "    2\n",
      "    1\n",
      "    2\n"
     ]
    }
   ],
   "source": [
    "# run pool\n",
    "di = dis1\n",
    "nn = 1\n",
    "p = Pool(cpu_count()-1)\n",
    "out1 = p.map(experiment_variants,seqs_r10)"
   ]
  },
  {
   "cell_type": "code",
   "execution_count": 12,
   "metadata": {},
   "outputs": [
    {
     "data": {
      "text/plain": [
       "[[[[48, 2, 1]], [[4.7659574468085104, 1.0, 0]]],\n",
       " [[[384, 8, 1]], [[7.2967798085291555, 1.7142857142857142, 0]]],\n",
       " [[[16, 1, 1]], [[3.7333333333333334, 0, 0]]],\n",
       " [[[48, 1, 1]], [[7.4893617021276597, 0, 0]]],\n",
       " [[[16, 1, 1]], [[4.2666666666666666, 0, 0]]],\n",
       " [[[8, 2, 1]], [[2.8571428571428572, 1.0, 0]]],\n",
       " [[[64, 4, 1]], [[5.0793650793650791, 1.3333333333333333, 0]]],\n",
       " [[[128, 2, 1]], [[7.0551181102362204, 1.0, 0]]],\n",
       " [[[768, 1, 1]], [[9.7905258583224679, 0, 0]]],\n",
       " [[[16, 1, 1]], [[4.2666666666666666, 0, 0]]]]"
      ]
     },
     "execution_count": 12,
     "metadata": {},
     "output_type": "execute_result"
    }
   ],
   "source": [
    "out1"
   ]
  },
  {
   "cell_type": "code",
   "execution_count": 13,
   "metadata": {
    "collapsed": true
   },
   "outputs": [],
   "source": [
    "outvn = np.ones((4,7,10))*np.NaN\n",
    "outvm = np.ones((4,7))*np.NaN\n",
    "outvs = np.ones((4,7))*np.NaN\n",
    "\n",
    "outpn = np.ones((4,7,10))*np.NaN\n",
    "outpm = np.ones((4,7))*np.NaN\n",
    "outps = np.ones((4,7))*np.NaN\n",
    "\n",
    "for i in range(0,len(out1)):\n",
    "    #for ii in [0]: # variants / pdist\n",
    "        #for iii in range(0,2):\n",
    "    outvn[0,2:5,i] = np.array(out1[i][0][0]) \n",
    "    outpn[0,2:5,i] = np.array(out1[i][1][0])   "
   ]
  },
  {
   "cell_type": "code",
   "execution_count": 14,
   "metadata": {
    "collapsed": true
   },
   "outputs": [],
   "source": [
    "np.save('temporary_results_var_1.npy',outvn)\n",
    "np.save('temporary_results_pd_1.npy',outpn)"
   ]
  },
  {
   "cell_type": "code",
   "execution_count": null,
   "metadata": {
    "collapsed": true
   },
   "outputs": [],
   "source": []
  },
  {
   "cell_type": "code",
   "execution_count": 15,
   "metadata": {},
   "outputs": [
    {
     "name": "stdout",
     "output_type": "stream",
     "text": [
      "0\n",
      "0\n",
      "0\n",
      "    0\n",
      "    0\n",
      "    0\n",
      "    1\n",
      "    2\n",
      "    3\n",
      "0\n",
      "    0\n",
      "    1\n",
      "    1\n",
      "    2\n",
      "    3\n",
      "0\n",
      "    0\n",
      "    2\n",
      "    3\n",
      "0\n",
      "    0\n",
      "    1\n",
      "    2\n",
      "    3\n",
      "0\n",
      "    0\n",
      "    1\n",
      "    1\n",
      "    2\n",
      "    3\n",
      "0\n",
      "    0\n",
      "    1\n",
      "    2\n",
      "    3\n",
      "0\n",
      "    0\n",
      "    2\n",
      "    3\n",
      "0\n",
      "    0\n",
      "    1\n",
      "    2\n",
      "    3\n",
      "    1\n",
      "    2\n",
      "    3\n",
      "    1\n",
      "    2\n",
      "    3\n"
     ]
    }
   ],
   "source": [
    "# run pool\n",
    "di = dis2\n",
    "nn = 2\n",
    "p = Pool(cpu_count()-1)\n",
    "out2 = p.map(experiment_variants,seqs_r10)"
   ]
  },
  {
   "cell_type": "code",
   "execution_count": 16,
   "metadata": {},
   "outputs": [
    {
     "data": {
      "text/plain": [
       "[[[[540, 2, 1, 1]], [[6.8905380333951767, 1.0, 0, 0]]],\n",
       " [[[384, 432, 1, 1]], [[4.6788511749347261, 4.6774941995359631, 0, 0]]],\n",
       " [[[256, 81, 1, 1]], [[3.7647058823529411, 3.6000000000000001, 0, 0]]],\n",
       " [[[576, 27, 1, 1]], [[4.563478260869565, 2.7692307692307692, 0, 0]]],\n",
       " [[[960, 6, 2, 2]], [[8.5555787278415014, 1.6666666666666667, 1.0, 1.0]]],\n",
       " [[[72, 8, 2, 1]], [[3.39906103286385, 1.7142857142857142, 1.0, 0]]],\n",
       " [[[256, 12, 1, 1]], [[4.6431372549019612, 3.6969696969696968, 0, 0]]],\n",
       " [[[8, 24, 4, 1]], [[1.8571428571428572, 3.5362318840579712, 2.0, 0]]],\n",
       " [[[192, 36, 2, 1]], [[4.6910994764397902, 3.9428571428571431, 1.0, 0]]],\n",
       " [[[96, 8, 1, 1]], [[4.2105263157894735, 2.2857142857142856, 0, 0]]]]"
      ]
     },
     "execution_count": 16,
     "metadata": {},
     "output_type": "execute_result"
    }
   ],
   "source": [
    "out2"
   ]
  },
  {
   "cell_type": "code",
   "execution_count": 17,
   "metadata": {
    "collapsed": true
   },
   "outputs": [],
   "source": [
    "for i in range(0,len(out2)):\n",
    "    #for ii in [0]: # variants / pdist\n",
    "        #for iii in range(0,2):\n",
    "    outvn[1,3:,i] = np.array(out2[i][0][0])   \n",
    "    outpn[1,3:,i] = np.array(out2[i][1][0])      "
   ]
  },
  {
   "cell_type": "code",
   "execution_count": 18,
   "metadata": {
    "collapsed": true
   },
   "outputs": [],
   "source": [
    "np.save('temporary_results_var_2.npy',outvn)\n",
    "np.save('temporary_results_pd_2.npy',outpn)"
   ]
  },
  {
   "cell_type": "code",
   "execution_count": null,
   "metadata": {
    "collapsed": true
   },
   "outputs": [],
   "source": []
  },
  {
   "cell_type": "code",
   "execution_count": 19,
   "metadata": {},
   "outputs": [
    {
     "name": "stdout",
     "output_type": "stream",
     "text": [
      "0\n",
      "0\n",
      "0\n",
      "    0\n",
      "    0\n",
      "    0\n",
      "    1\n",
      "    1\n",
      "    2\n",
      "0\n",
      "    0\n",
      "    1\n",
      "    2\n",
      "0\n",
      "    0\n",
      "    2\n",
      "0\n",
      "    0\n",
      "    1\n",
      "    2\n",
      "0\n",
      "    0\n",
      "    1\n",
      "    2\n",
      "0\n",
      "    0\n",
      "    1\n",
      "    2\n",
      "0\n",
      "    0\n",
      "    1\n",
      "    2\n",
      "0\n",
      "    0\n",
      "    1\n",
      "    2\n",
      "    1\n",
      "    2\n",
      "    1\n",
      "    2\n"
     ]
    }
   ],
   "source": [
    "# run pool\n",
    "di = dis3\n",
    "nn = 3\n",
    "p = Pool(cpu_count()-1)\n",
    "out3 = p.map(experiment_variants,seqs_r10)"
   ]
  },
  {
   "cell_type": "code",
   "execution_count": 20,
   "metadata": {},
   "outputs": [
    {
     "data": {
      "text/plain": [
       "[[[[216, 40, 1]], [[5.5534883720930228, 3.8564102564102565, 0]]],\n",
       " [[[128, 576, 4]],\n",
       "  [[4.0314960629921259, 5.2869565217391301, 1.3333333333333333]]],\n",
       " [[[384, 512, 2]], [[5.5979112271540474, 6.1682974559686885, 1.0]]],\n",
       " [[[5120, 48, 2]], [[7.5314709904278176, 3.9716312056737588, 1.0]]],\n",
       " [[[17664, 80, 15]],\n",
       "  [[8.1755310987432175, 4.3848101265822788, 2.1047619047619048]]],\n",
       " [[[2304, 6, 4]], [[7.1003039513677813, 1.9333333333333333, 2.0]]],\n",
       " [[[16128, 108, 12]],\n",
       "  [[8.5515506382375612, 3.4766355140186915, 3.8787878787878789]]],\n",
       " [[[288, 6, 2]], [[6.2996515679442506, 1.3999999999999999, 2.0]]],\n",
       " [[[1536, 48, 4]], [[5.4201954397394134, 3.2340425531914891, 1.0]]],\n",
       " [[[38640, 468, 4]],\n",
       "  [[9.6875395261666402, 5.1612584417723602, 1.3333333333333333]]]]"
      ]
     },
     "execution_count": 20,
     "metadata": {},
     "output_type": "execute_result"
    }
   ],
   "source": [
    "out3"
   ]
  },
  {
   "cell_type": "code",
   "execution_count": 21,
   "metadata": {
    "collapsed": true
   },
   "outputs": [],
   "source": [
    "for i in range(0,len(out2)):\n",
    "    #for ii in [0]: # variants / pdist\n",
    "        #for iii in range(0,2):\n",
    "    outvn[2,4:,i] = np.array(out3[i][0][0])   \n",
    "    outpn[2,4:,i] = np.array(out3[i][1][0])"
   ]
  },
  {
   "cell_type": "code",
   "execution_count": 22,
   "metadata": {
    "collapsed": true
   },
   "outputs": [],
   "source": [
    "np.save('temporary_results_var_3.npy',outvn)\n",
    "np.save('temporary_results_pd_3.npy',outpn)"
   ]
  },
  {
   "cell_type": "code",
   "execution_count": null,
   "metadata": {
    "collapsed": true
   },
   "outputs": [],
   "source": []
  },
  {
   "cell_type": "code",
   "execution_count": 30,
   "metadata": {},
   "outputs": [
    {
     "name": "stdout",
     "output_type": "stream",
     "text": [
      "0\n",
      "0\n",
      "    0\n",
      "0\n",
      "    0\n",
      "    0\n",
      "    1\n",
      "0\n",
      "    0\n",
      "    1\n",
      "0\n",
      "    0\n",
      "    1\n",
      "0\n",
      "    0\n",
      "    1\n",
      "0\n",
      "    0\n",
      "    1\n",
      "0\n",
      "    0\n",
      "    1\n",
      "0\n",
      "    0\n",
      "    1\n",
      "0\n",
      "    0\n",
      "    1\n",
      "    1\n",
      "    1\n"
     ]
    }
   ],
   "source": [
    "# run pool\n",
    "di = dis4\n",
    "nn = 4\n",
    "p = Pool(cpu_count()-1)\n",
    "out4 = p.map(experiment_variants,seqs_r10)"
   ]
  },
  {
   "cell_type": "code",
   "execution_count": 26,
   "metadata": {},
   "outputs": [
    {
     "data": {
      "text/plain": [
       "[[[[152, 10]], [[5.5294527710003489, 3.0666666666666669]]],\n",
       " [[[32, 48]], [[3.096774193548387, 3.9716312056737588]]],\n",
       " [[[6656, 216]], [[8.96871062821476, 5.8604651162790695]]],\n",
       " [[[2160, 24]], [[8.6600861166863954, 3.0144927536231885]]],\n",
       " [[[160, 10]], [[4.0855345911949685, 1.5555555555555556]]],\n",
       " [[[40, 4]], [[3.6923076923076925, 2.0]]],\n",
       " [[[4608, 68]], [[9.3909268504449752, 3.5856014047410008]]],\n",
       " [[[64, 24]], [[3.4920634920634921, 3.0434782608695654]]],\n",
       " [[[72, 8]], [[4.28169014084507, 1.7142857142857142]]],\n",
       " [[[152, 4]], [[4.0592540955036602, 1.3333333333333333]]]]"
      ]
     },
     "execution_count": 26,
     "metadata": {},
     "output_type": "execute_result"
    }
   ],
   "source": [
    "out4"
   ]
  },
  {
   "cell_type": "code",
   "execution_count": 28,
   "metadata": {
    "collapsed": true
   },
   "outputs": [],
   "source": [
    "for i in range(0,len(out2)):\n",
    "    #for ii in [0]: # variants / pdist\n",
    "        #for iii in range(0,2):\n",
    "    outvn[3,5:,i] = np.array(out4[i][0][0])   \n",
    "    outpn[3,5:,i] = np.array(out4[i][1][0])"
   ]
  },
  {
   "cell_type": "code",
   "execution_count": 29,
   "metadata": {
    "collapsed": true
   },
   "outputs": [],
   "source": [
    "np.save('temporary_results_var_4.npy',outvn)\n",
    "np.save('temporary_results_pd_4.npy',outpn)"
   ]
  },
  {
   "cell_type": "code",
   "execution_count": null,
   "metadata": {
    "collapsed": true
   },
   "outputs": [],
   "source": []
  },
  {
   "cell_type": "code",
   "execution_count": 31,
   "metadata": {
    "collapsed": true
   },
   "outputs": [],
   "source": [
    "# calculate averages where possible\n",
    "outvm = np.ones((4,7))*np.NaN\n",
    "outvs = np.ones((4,7))*np.NaN\n",
    "outpm = np.ones((4,7))*np.NaN\n",
    "outps = np.ones((4,7))*np.NaN\n",
    "\n",
    "for i in range(0,4):\n",
    "    for ii in range(0,7):\n",
    "        if not(np.isnan(outvn[i,ii,0])):\n",
    "            outvm[i,ii] = np.mean(outvn[i,ii,:])\n",
    "            outvs[i,ii] = np.std(outvn[i,ii,:])\n",
    "            outpm[i,ii] = np.mean(outpn[i,ii,:])\n",
    "            outps[i,ii] = np.std(outpn[i,ii,:])"
   ]
  },
  {
   "cell_type": "code",
   "execution_count": 32,
   "metadata": {},
   "outputs": [
    {
     "data": {
      "text/html": [
       "<div>\n",
       "<style>\n",
       "    .dataframe thead tr:only-child th {\n",
       "        text-align: right;\n",
       "    }\n",
       "\n",
       "    .dataframe thead th {\n",
       "        text-align: left;\n",
       "    }\n",
       "\n",
       "    .dataframe tbody tr th {\n",
       "        vertical-align: top;\n",
       "    }\n",
       "</style>\n",
       "<table border=\"1\" class=\"dataframe\">\n",
       "  <thead>\n",
       "    <tr style=\"text-align: right;\">\n",
       "      <th></th>\n",
       "      <th>1</th>\n",
       "      <th>2</th>\n",
       "      <th>3</th>\n",
       "      <th>4</th>\n",
       "      <th>5</th>\n",
       "      <th>6</th>\n",
       "      <th>7</th>\n",
       "    </tr>\n",
       "  </thead>\n",
       "  <tbody>\n",
       "    <tr>\n",
       "      <th>1</th>\n",
       "      <td>NaN</td>\n",
       "      <td>NaN</td>\n",
       "      <td>149.6</td>\n",
       "      <td>2.3</td>\n",
       "      <td>1.0</td>\n",
       "      <td>NaN</td>\n",
       "      <td>NaN</td>\n",
       "    </tr>\n",
       "    <tr>\n",
       "      <th>2</th>\n",
       "      <td>NaN</td>\n",
       "      <td>NaN</td>\n",
       "      <td>NaN</td>\n",
       "      <td>334.0</td>\n",
       "      <td>63.6</td>\n",
       "      <td>1.6</td>\n",
       "      <td>1.1</td>\n",
       "    </tr>\n",
       "    <tr>\n",
       "      <th>3</th>\n",
       "      <td>NaN</td>\n",
       "      <td>NaN</td>\n",
       "      <td>NaN</td>\n",
       "      <td>NaN</td>\n",
       "      <td>8240.8</td>\n",
       "      <td>189.2</td>\n",
       "      <td>5.0</td>\n",
       "    </tr>\n",
       "    <tr>\n",
       "      <th>4</th>\n",
       "      <td>NaN</td>\n",
       "      <td>NaN</td>\n",
       "      <td>NaN</td>\n",
       "      <td>NaN</td>\n",
       "      <td>NaN</td>\n",
       "      <td>1409.6</td>\n",
       "      <td>41.6</td>\n",
       "    </tr>\n",
       "  </tbody>\n",
       "</table>\n",
       "</div>"
      ],
      "text/plain": [
       "    1   2      3      4       5       6     7\n",
       "1 NaN NaN  149.6    2.3     1.0     NaN   NaN\n",
       "2 NaN NaN    NaN  334.0    63.6     1.6   1.1\n",
       "3 NaN NaN    NaN    NaN  8240.8   189.2   5.0\n",
       "4 NaN NaN    NaN    NaN     NaN  1409.6  41.6"
      ]
     },
     "execution_count": 32,
     "metadata": {},
     "output_type": "execute_result"
    }
   ],
   "source": [
    "pd.DataFrame(outvm,index=np.arange(1,5),columns=np.arange(1,8))"
   ]
  },
  {
   "cell_type": "code",
   "execution_count": 33,
   "metadata": {},
   "outputs": [
    {
     "data": {
      "text/html": [
       "<div>\n",
       "<style>\n",
       "    .dataframe thead tr:only-child th {\n",
       "        text-align: right;\n",
       "    }\n",
       "\n",
       "    .dataframe thead th {\n",
       "        text-align: left;\n",
       "    }\n",
       "\n",
       "    .dataframe tbody tr th {\n",
       "        vertical-align: top;\n",
       "    }\n",
       "</style>\n",
       "<table border=\"1\" class=\"dataframe\">\n",
       "  <thead>\n",
       "    <tr style=\"text-align: right;\">\n",
       "      <th></th>\n",
       "      <th>1</th>\n",
       "      <th>2</th>\n",
       "      <th>3</th>\n",
       "      <th>4</th>\n",
       "      <th>5</th>\n",
       "      <th>6</th>\n",
       "      <th>7</th>\n",
       "    </tr>\n",
       "  </thead>\n",
       "  <tbody>\n",
       "    <tr>\n",
       "      <th>1</th>\n",
       "      <td>NaN</td>\n",
       "      <td>NaN</td>\n",
       "      <td>232.249521</td>\n",
       "      <td>2.100000</td>\n",
       "      <td>0.000000</td>\n",
       "      <td>NaN</td>\n",
       "      <td>NaN</td>\n",
       "    </tr>\n",
       "    <tr>\n",
       "      <th>2</th>\n",
       "      <td>NaN</td>\n",
       "      <td>NaN</td>\n",
       "      <td>NaN</td>\n",
       "      <td>275.548907</td>\n",
       "      <td>124.759128</td>\n",
       "      <td>0.916515</td>\n",
       "      <td>0.300000</td>\n",
       "    </tr>\n",
       "    <tr>\n",
       "      <th>3</th>\n",
       "      <td>NaN</td>\n",
       "      <td>NaN</td>\n",
       "      <td>NaN</td>\n",
       "      <td>NaN</td>\n",
       "      <td>11917.409893</td>\n",
       "      <td>218.934145</td>\n",
       "      <td>4.427189</td>\n",
       "    </tr>\n",
       "    <tr>\n",
       "      <th>4</th>\n",
       "      <td>NaN</td>\n",
       "      <td>NaN</td>\n",
       "      <td>NaN</td>\n",
       "      <td>NaN</td>\n",
       "      <td>NaN</td>\n",
       "      <td>2245.341631</td>\n",
       "      <td>61.421820</td>\n",
       "    </tr>\n",
       "  </tbody>\n",
       "</table>\n",
       "</div>"
      ],
      "text/plain": [
       "    1   2           3           4             5            6          7\n",
       "1 NaN NaN  232.249521    2.100000      0.000000          NaN        NaN\n",
       "2 NaN NaN         NaN  275.548907    124.759128     0.916515   0.300000\n",
       "3 NaN NaN         NaN         NaN  11917.409893   218.934145   4.427189\n",
       "4 NaN NaN         NaN         NaN           NaN  2245.341631  61.421820"
      ]
     },
     "execution_count": 33,
     "metadata": {},
     "output_type": "execute_result"
    }
   ],
   "source": [
    "pd.DataFrame(outvs,index=np.arange(1,5),columns=np.arange(1,8))"
   ]
  },
  {
   "cell_type": "code",
   "execution_count": 34,
   "metadata": {},
   "outputs": [
    {
     "data": {
      "text/html": [
       "<div>\n",
       "<style>\n",
       "    .dataframe thead tr:only-child th {\n",
       "        text-align: right;\n",
       "    }\n",
       "\n",
       "    .dataframe thead th {\n",
       "        text-align: left;\n",
       "    }\n",
       "\n",
       "    .dataframe tbody tr th {\n",
       "        vertical-align: top;\n",
       "    }\n",
       "</style>\n",
       "<table border=\"1\" class=\"dataframe\">\n",
       "  <thead>\n",
       "    <tr style=\"text-align: right;\">\n",
       "      <th></th>\n",
       "      <th>1</th>\n",
       "      <th>2</th>\n",
       "      <th>3</th>\n",
       "      <th>4</th>\n",
       "      <th>5</th>\n",
       "      <th>6</th>\n",
       "      <th>7</th>\n",
       "    </tr>\n",
       "  </thead>\n",
       "  <tbody>\n",
       "    <tr>\n",
       "      <th>1</th>\n",
       "      <td>NaN</td>\n",
       "      <td>NaN</td>\n",
       "      <td>5.660092</td>\n",
       "      <td>0.604762</td>\n",
       "      <td>0.000000</td>\n",
       "      <td>NaN</td>\n",
       "      <td>NaN</td>\n",
       "    </tr>\n",
       "    <tr>\n",
       "      <th>2</th>\n",
       "      <td>NaN</td>\n",
       "      <td>NaN</td>\n",
       "      <td>NaN</td>\n",
       "      <td>4.725412</td>\n",
       "      <td>2.888945</td>\n",
       "      <td>0.500000</td>\n",
       "      <td>0.100000</td>\n",
       "    </tr>\n",
       "    <tr>\n",
       "      <th>3</th>\n",
       "      <td>NaN</td>\n",
       "      <td>NaN</td>\n",
       "      <td>NaN</td>\n",
       "      <td>NaN</td>\n",
       "      <td>6.794914</td>\n",
       "      <td>3.887338</td>\n",
       "      <td>1.565022</td>\n",
       "    </tr>\n",
       "    <tr>\n",
       "      <th>4</th>\n",
       "      <td>NaN</td>\n",
       "      <td>NaN</td>\n",
       "      <td>NaN</td>\n",
       "      <td>NaN</td>\n",
       "      <td>NaN</td>\n",
       "      <td>5.525680</td>\n",
       "      <td>2.914551</td>\n",
       "    </tr>\n",
       "  </tbody>\n",
       "</table>\n",
       "</div>"
      ],
      "text/plain": [
       "    1   2         3         4         5         6         7\n",
       "1 NaN NaN  5.660092  0.604762  0.000000       NaN       NaN\n",
       "2 NaN NaN       NaN  4.725412  2.888945  0.500000  0.100000\n",
       "3 NaN NaN       NaN       NaN  6.794914  3.887338  1.565022\n",
       "4 NaN NaN       NaN       NaN       NaN  5.525680  2.914551"
      ]
     },
     "execution_count": 34,
     "metadata": {},
     "output_type": "execute_result"
    }
   ],
   "source": [
    "pd.DataFrame(outpm,index=np.arange(1,5),columns=np.arange(1,8))"
   ]
  },
  {
   "cell_type": "code",
   "execution_count": 35,
   "metadata": {},
   "outputs": [
    {
     "data": {
      "text/html": [
       "<div>\n",
       "<style>\n",
       "    .dataframe thead tr:only-child th {\n",
       "        text-align: right;\n",
       "    }\n",
       "\n",
       "    .dataframe thead th {\n",
       "        text-align: left;\n",
       "    }\n",
       "\n",
       "    .dataframe tbody tr th {\n",
       "        vertical-align: top;\n",
       "    }\n",
       "</style>\n",
       "<table border=\"1\" class=\"dataframe\">\n",
       "  <thead>\n",
       "    <tr style=\"text-align: right;\">\n",
       "      <th></th>\n",
       "      <th>1</th>\n",
       "      <th>2</th>\n",
       "      <th>3</th>\n",
       "      <th>4</th>\n",
       "      <th>5</th>\n",
       "      <th>6</th>\n",
       "      <th>7</th>\n",
       "    </tr>\n",
       "  </thead>\n",
       "  <tbody>\n",
       "    <tr>\n",
       "      <th>1</th>\n",
       "      <td>NaN</td>\n",
       "      <td>NaN</td>\n",
       "      <td>2.04011</td>\n",
       "      <td>0.637117</td>\n",
       "      <td>0.000000</td>\n",
       "      <td>NaN</td>\n",
       "      <td>NaN</td>\n",
       "    </tr>\n",
       "    <tr>\n",
       "      <th>2</th>\n",
       "      <td>NaN</td>\n",
       "      <td>NaN</td>\n",
       "      <td>NaN</td>\n",
       "      <td>1.748386</td>\n",
       "      <td>1.127264</td>\n",
       "      <td>0.670820</td>\n",
       "      <td>0.300000</td>\n",
       "    </tr>\n",
       "    <tr>\n",
       "      <th>3</th>\n",
       "      <td>NaN</td>\n",
       "      <td>NaN</td>\n",
       "      <td>NaN</td>\n",
       "      <td>NaN</td>\n",
       "      <td>1.635252</td>\n",
       "      <td>1.401448</td>\n",
       "      <td>0.976609</td>\n",
       "    </tr>\n",
       "    <tr>\n",
       "      <th>4</th>\n",
       "      <td>NaN</td>\n",
       "      <td>NaN</td>\n",
       "      <td>NaN</td>\n",
       "      <td>NaN</td>\n",
       "      <td>NaN</td>\n",
       "      <td>2.361937</td>\n",
       "      <td>1.300771</td>\n",
       "    </tr>\n",
       "  </tbody>\n",
       "</table>\n",
       "</div>"
      ],
      "text/plain": [
       "    1   2        3         4         5         6         7\n",
       "1 NaN NaN  2.04011  0.637117  0.000000       NaN       NaN\n",
       "2 NaN NaN      NaN  1.748386  1.127264  0.670820  0.300000\n",
       "3 NaN NaN      NaN       NaN  1.635252  1.401448  0.976609\n",
       "4 NaN NaN      NaN       NaN       NaN  2.361937  1.300771"
      ]
     },
     "execution_count": 35,
     "metadata": {},
     "output_type": "execute_result"
    }
   ],
   "source": [
    "pd.DataFrame(outps,index=np.arange(1,5),columns=np.arange(1,8))"
   ]
  },
  {
   "cell_type": "code",
   "execution_count": 37,
   "metadata": {
    "collapsed": true
   },
   "outputs": [],
   "source": [
    "np.savez('variants_220bp-18_5_18.npz',outvn,outvm,outvs,outpn,outpm,outps)\n"
   ]
  },
  {
   "cell_type": "code",
   "execution_count": null,
   "metadata": {
    "collapsed": true
   },
   "outputs": [],
   "source": []
  },
  {
   "cell_type": "code",
   "execution_count": null,
   "metadata": {
    "collapsed": true
   },
   "outputs": [],
   "source": []
  },
  {
   "cell_type": "code",
   "execution_count": null,
   "metadata": {
    "collapsed": true
   },
   "outputs": [],
   "source": []
  }
 ],
 "metadata": {
  "kernelspec": {
   "display_name": "Python [default]",
   "language": "python",
   "name": "python3"
  },
  "language_info": {
   "codemirror_mode": {
    "name": "ipython",
    "version": 3
   },
   "file_extension": ".py",
   "mimetype": "text/x-python",
   "name": "python",
   "nbconvert_exporter": "python",
   "pygments_lexer": "ipython3",
   "version": "3.6.7"
  }
 },
 "nbformat": 4,
 "nbformat_minor": 2
}
